{
 "cells": [
  {
   "cell_type": "markdown",
   "metadata": {},
   "source": [
    "Automação de extratos do Banco Itau\n",
    "\n",
    "Como entrar no Banco Itau tirar os extratos do mês , contas pagas e boletos pagos"
   ]
  },
  {
   "cell_type": "code",
   "execution_count": null,
   "metadata": {},
   "outputs": [],
   "source": [
    "#instalando o selenium\n",
    "%pip install selenium\n",
    "%pip install setuptools"
   ]
  },
  {
   "cell_type": "code",
   "execution_count": 142,
   "metadata": {},
   "outputs": [],
   "source": [
    "# carregando os pacote do selenium para isso\n",
    "from selenium import webdriver\n",
    "from selenium.webdriver.common.keys import Keys\n",
    "from selenium.webdriver.common.by import By\n",
    "from selenium.webdriver.support.ui import WebDriverWait\n",
    "import time"
   ]
  },
  {
   "cell_type": "code",
   "execution_count": 144,
   "metadata": {},
   "outputs": [],
   "source": [
    "# conta preciaa ser uma string\n",
    "conta = \"\"\n",
    "#conta = \"123456789\"\n",
    "# senha precisa ser uma string e separada por espaço\n",
    "senha1 = \"0 0 0 0 0 0\"\n",
    "# separando a senha em uma lista\n",
    "senha = senha1.split()"
   ]
  },
  {
   "cell_type": "code",
   "execution_count": null,
   "metadata": {},
   "outputs": [],
   "source": [
    "driver = webdriver.Edge(\"E:/Downloads/edgedriver_win64/msedgedriver.exe\")\n",
    "driver.maximize_window()\n",
    "driver.get('https://www.itau.com.br/')\n",
    "driver.find_element(By.XPATH,'/html/body/div[2]/header/div/div/div[2]/form/button[3]').click()\n",
    "driver.find_element(By.XPATH,'/html/body/div[2]/header/div/div/div[3]/div/div/div/div[2]/form/div/select').click()\n",
    "driver.find_element(By.XPATH,'/html/body/div[2]/header/div/div/div[3]/div/div/div/div[2]/form/div/select/option[2]').click()\n",
    "driver.find_element(By.XPATH,'/html/body/div[2]/header/div/div/div[3]/div/div/div/div[5]/input').send_keys(conta)\n",
    "time.sleep(3)\n",
    "driver.find_element(By.XPATH,'/html/body/div[2]/header/div/div/div[3]/div/div/div/div[7]/button').click()\n",
    "time.sleep(3)\n",
    "# Pegando o scrappings dos butões e digitando a senha\n",
    "\n",
    "buttons_itau = driver.find_elements(By.XPATH,'//*[@id=\"campoTeclado\"]')\n",
    "buttons_list = []\n",
    "for p in range(len(buttons_itau)):\n",
    "    buttons_list.append(buttons_itau[p].text)\n",
    "for i in range(len(senha)):\n",
    " for j in range(len(buttons_list)):\n",
    "    if senha[i] in buttons_list[j]:\n",
    "         driver.find_element(By.LINK_TEXT, buttons_list[j]).click()\n",
    "       \n",
    "driver.implicitly_wait(1)\n",
    "\n",
    "# CLicando para entrar\n",
    "driver.implicitly_wait(3)\n",
    "driver.find_element(By.XPATH,'/html/body/section/div/section/div/div[1]/div/form/fieldset/div[2]/div[2]/a').click()\n",
    "\n",
    "time.sleep(3)\n",
    "# Entrar sem itoken\n",
    "driver.find_element(By.XPATH,'/html/body/section[2]/div/section/div/div/form/div/section/fieldset/ul/li[2]/p[1]/input').click()\n",
    "driver.find_element(By.XPATH,'/html/body/section[2]/div/section/div/div/div[2]/span/a').click() \n"
   ]
  },
  {
   "cell_type": "code",
   "execution_count": 28,
   "metadata": {},
   "outputs": [],
   "source": [
    "#clicar para ver extrato e baixar mes atual\n",
    "driver.find_element(By.XPATH,'/html/body/div[1]/section/div/section/div[6]/div[1]/div[1]/div/div[2]/div/div[1]/div[2]/div/div/a').click()\n",
    "time.sleep(4)\n",
    "driver.find_element(By.XPATH, '/html/body/div[1]/section/div/div[3]/section/div[1]/div/div[8]/div/div[2]/div[4]/div/div/div[2]/div[2]/div[1]/div[1]/cpv-select/div/div/select/option[9]').click()\n",
    "time.sleep(3)\n",
    "#Dowloading in excel\n",
    "driver.find_element(By.XPATH, '//*[@id=\"empresas\"]').click()\n",
    "time.sleep(3)\n",
    "driver.find_element(By.XPATH, '/html/body/div[1]/section/div/div[3]/section/div[1]/div/div[8]/div/div[2]/div[14]/div[2]/nav/ul/li[3]/a/span[2]').click()"
   ]
  },
  {
   "cell_type": "code",
   "execution_count": null,
   "metadata": {},
   "outputs": [],
   "source": [
    "#clicar para ver contas a pagas e baixar mes atual\n",
    "driver.find_element(By.XPATH,'//*[@id=\"inicio\"]').click()\n",
    "time.sleep(6)\n",
    "driver.find_element(By.XPATH,'//*[@id=\"main-menu\"]/li[5]/a').click()\n",
    "driver.find_element(By.XPATH,'//*[@id=\"main-menu\"]/li[5]/ul/li[3]/a').click()\n",
    "time.sleep(3)\n",
    "driver.find_element(By.XPATH, '/html/body/div[11]/div/div/table[2]/tbody/tr/td[2]/a[1]').click()\n",
    "# data e baixar\n",
    "driver.find_element(By.XPATH, '//*[@id=\"statusPagamento\"]').click()\n",
    "driver.find_element(By.XPATH, '//*[@id=\"statusPagamentoList\"]/li[3]').click()\n",
    "driver.find_element(By.XPATH, '//*[@id=\"periodoPagamento\"]').click()\n",
    "driver.find_element(By.XPATH, '//*[@id=\"periodoPagamentoList\"]/li[5]').click()\n",
    "driver.find_element(By.XPATH, '//*[@id=\"dataInicial\"]').click()\n",
    "driver.find_element(By.XPATH, '//*[@id=\"dataInicial\"]').clear()\n",
    "driver.find_element(By.XPATH, '//*[@id=\"dataInicial\"]').send_keys(\"01/11/2022\")\n",
    "driver.find_element(By.XPATH, '//*[@id=\"dataFinal\"]').send_keys(\"04/11/2022\")\n",
    "driver.find_element(By.XPATH, '//*[@id=\"botao-busca\"]/button/span').click()\n",
    "time.sleep(3)\n",
    "driver.find_element(By.XPATH, '//*[@id=\"consultar\"]/div[1]/section[2]/div[3]/div/div/div/div/div[1]/div[3]/cpv-salvar-excel/a/div/span').click()"
   ]
  },
  {
   "cell_type": "code",
   "execution_count": null,
   "metadata": {},
   "outputs": [],
   "source": [
    "#ver boletos pagos e baixar o do dia\n",
    "#driver.find_element(By.XPATH,'//*[@id=\"inicio\"]').click()\n",
    "driver.find_element(By.XPATH,'//*[@id=\"main-menu\"]/li[3]/a').click()\n",
    "driver.find_element(By.XPATH,'//*[@id=\"main-menu\"]/li[3]/ul/li[2]/a').click()\n",
    "time.sleep(3)\n",
    "driver.find_element(By.XPATH, '//*[@id=\"abaPagos\"]').click()\n",
    "time.sleep(3)\n",
    "driver.find_element(By.XPATH, '//*[@id=\"opcoesPagos\"]/div/div[2]/a').click()\n"
   ]
  },
  {
   "cell_type": "code",
   "execution_count": null,
   "metadata": {},
   "outputs": [],
   "source": [
    "#Sair do codigo\n",
    "driver.find_element(By.XPATH, '/html/body/div[1]/header/div[4]/div[1]/div[2]/nav/ul/li[5]/a/span').click()\n",
    "time.sleep(3)\n",
    "driver.find_element(By.XPATH, '/html/body/div[1]/section/div/section/div/div/div[1]/section/a[2]').click()\n",
    "driver.quit()"
   ]
  }
 ],
 "metadata": {
  "kernelspec": {
   "display_name": "Python 3.10.7 64-bit (microsoft store)",
   "language": "python",
   "name": "python3"
  },
  "language_info": {
   "codemirror_mode": {
    "name": "ipython",
    "version": 3
   },
   "file_extension": ".py",
   "mimetype": "text/x-python",
   "name": "python",
   "nbconvert_exporter": "python",
   "pygments_lexer": "ipython3",
   "version": "3.10.8"
  },
  "orig_nbformat": 4,
  "vscode": {
   "interpreter": {
    "hash": "415f3bf4fdbdb6907822b86d9d5cf3f7663588e21c5945504a7541f3cdd2c727"
   }
  }
 },
 "nbformat": 4,
 "nbformat_minor": 2
}
